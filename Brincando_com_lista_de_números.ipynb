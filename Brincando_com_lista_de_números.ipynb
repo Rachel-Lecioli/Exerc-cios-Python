{
  "nbformat": 4,
  "nbformat_minor": 0,
  "metadata": {
    "colab": {
      "provenance": [],
      "authorship_tag": "ABX9TyOazbTGyq5/qsn1jFD/loxP",
      "include_colab_link": true
    },
    "kernelspec": {
      "name": "python3",
      "display_name": "Python 3"
    },
    "language_info": {
      "name": "python"
    }
  },
  "cells": [
    {
      "cell_type": "markdown",
      "metadata": {
        "id": "view-in-github",
        "colab_type": "text"
      },
      "source": [
        "<a href=\"https://colab.research.google.com/github/Rachel-Lecioli/Exerc-cios-Python/blob/main/Brincando_com_lista_de_n%C3%BAmeros.ipynb\" target=\"_parent\"><img src=\"https://colab.research.google.com/assets/colab-badge.svg\" alt=\"Open In Colab\"/></a>"
      ]
    },
    {
      "cell_type": "code",
      "source": [
        "lista = []\n",
        "for _ in range (10):\n",
        "  numero = float (input('Digite um número: '))\n",
        "  lista.append (numero)\n",
        "lista [-1], lista [-2], lista [-3], lista [-4], lista [-5], lista [-6], lista [-7], lista [-8], lista [-9], lista [-10]"
      ],
      "metadata": {
        "colab": {
          "base_uri": "https://localhost:8080/"
        },
        "id": "X7CAc2x5Gfw2",
        "outputId": "b39d2c59-f776-4d75-b39a-ef7912b75f32"
      },
      "execution_count": 21,
      "outputs": [
        {
          "name": "stdout",
          "output_type": "stream",
          "text": [
            "Digite um número: 2\n",
            "Digite um número: 15\n",
            "Digite um número: 84\n",
            "Digite um número: 72\n",
            "Digite um número: 001\n",
            "Digite um número: 10\n",
            "Digite um número: 25\n",
            "Digite um número: 3\n",
            "Digite um número: 2\n",
            "Digite um número: 5\n"
          ]
        },
        {
          "output_type": "execute_result",
          "data": {
            "text/plain": [
              "(5.0, 2.0, 3.0, 25.0, 10.0, 1.0, 72.0, 84.0, 15.0, 2.0)"
            ]
          },
          "metadata": {},
          "execution_count": 21
        }
      ]
    },
    {
      "cell_type": "code",
      "source": [
        "notas = []\n",
        "\n",
        "while True:\n",
        "  entrada = input ('Digite uma nota: ')\n",
        "  if entrada == '-1':\n",
        "    break\n",
        "  notas.append(float (entrada))\n",
        "\n",
        "tamanho = len (notas)\n",
        "print (f'Foram lidas {tamanho} notas')\n",
        "print (' '.join([str (nota) for nota in notas]))\n",
        "notas.reverse()\n",
        "for nota in notas:\n",
        "  print (nota)\n",
        "\n",
        "soma = sum (notas)\n",
        "print (f'A soma das notas é: {soma}')\n",
        "\n",
        "media = soma / tamanho\n",
        "print (f'A média das notas é: {media}')\n",
        "print ('Notas acima da média: ')\n",
        "print (' '.join ([str (nota) for nota in notas if nota > media]))\n",
        "print ('Notas abaixo de 7: ')\n",
        "print (' '.join ([str (nota) for nota in notas if nota < 7]))\n",
        "\n",
        "print ('Fim do programa de notas!')"
      ],
      "metadata": {
        "colab": {
          "base_uri": "https://localhost:8080/"
        },
        "id": "XhcAJpIfUoe1",
        "outputId": "6c8f65ed-6d6c-4dd1-fd72-34e37024bebc"
      },
      "execution_count": 32,
      "outputs": [
        {
          "output_type": "stream",
          "name": "stdout",
          "text": [
            "Digite uma nota: 9\n",
            "Digite uma nota: 10\n",
            "Digite uma nota: 4.5\n",
            "Digite uma nota: 2\n",
            "Digite uma nota: 7\n",
            "Digite uma nota: 6.5\n",
            "Digite uma nota: -1\n",
            "Foram lidas 6 notas\n",
            "9.0 10.0 4.5 2.0 7.0 6.5\n",
            "6.5\n",
            "7.0\n",
            "2.0\n",
            "4.5\n",
            "10.0\n",
            "9.0\n",
            "A soma das notas é: 39.0\n",
            "A média das notas é: 6.5\n",
            "Notas acima da média: \n",
            "7.0 10.0 9.0\n",
            "Notas abaixo de 7: \n",
            "6.5 2.0 4.5\n",
            "Fim do programa de notas!\n"
          ]
        }
      ]
    },
    {
      "cell_type": "code",
      "source": [
        "8"
      ],
      "metadata": {
        "id": "djzborDZK38P"
      },
      "execution_count": 23,
      "outputs": []
    }
  ]
}