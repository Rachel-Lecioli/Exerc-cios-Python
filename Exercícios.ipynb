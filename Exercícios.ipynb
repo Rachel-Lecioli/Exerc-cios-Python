{
  "nbformat": 4,
  "nbformat_minor": 0,
  "metadata": {
    "colab": {
      "provenance": [],
      "authorship_tag": "ABX9TyNJAvCumjwCdZ5E9CKm8q8B",
      "include_colab_link": true
    },
    "kernelspec": {
      "name": "python3",
      "display_name": "Python 3"
    },
    "language_info": {
      "name": "python"
    }
  },
  "cells": [
    {
      "cell_type": "markdown",
      "metadata": {
        "id": "view-in-github",
        "colab_type": "text"
      },
      "source": [
        "<a href=\"https://colab.research.google.com/github/Rachel-Lecioli/Exerc-cios-Python/blob/main/Exerc%C3%ADcios.ipynb\" target=\"_parent\"><img src=\"https://colab.research.google.com/assets/colab-badge.svg\" alt=\"Open In Colab\"/></a>"
      ]
    },
    {
      "cell_type": "markdown",
      "source": [],
      "metadata": {
        "id": "5Fj_FidgBQGg"
      }
    },
    {
      "cell_type": "markdown",
      "source": [
        "## Exercício de decomposição de números"
      ],
      "metadata": {
        "id": "BXDgbgla-M9y"
      }
    },
    {
      "cell_type": "code",
      "execution_count": 14,
      "metadata": {
        "colab": {
          "base_uri": "https://localhost:8080/",
          "height": 0
        },
        "id": "2lI1h4XXoWA4",
        "outputId": "b3a52d7f-81d3-405a-ed18-62a3624babd9"
      },
      "outputs": [
        {
          "output_type": "stream",
          "name": "stdout",
          "text": [
            "3 centenas, 8 dezenas e 7 unidades\n"
          ]
        }
      ],
      "source": [
        "numero = 387\n",
        "cen_str = dez_str = uni_str = ''\n",
        "cen_int = dez_int = uni_int = ''\n",
        "partes_numericas = 0\n",
        "\n",
        "cen_int, numero = divmod(numero,100)\n",
        "\n",
        "if cen_int == 1:\n",
        "  cen_str = '1 centena'\n",
        "  partes_numericas += 1\n",
        "elif cen_int > 1:\n",
        "  cen_str = f'{cen_int} centenas'\n",
        "  partes_numericas += 1\n",
        "\n",
        "dez_int, numero = divmod(numero,10)\n",
        "\n",
        "if dez_int == 1:\n",
        "  dez_str = '1 dezena'\n",
        "  partes_numericas += 1\n",
        "elif dez_int > 1:\n",
        "  dez_str = f'{dez_int} dezenas'\n",
        "  partes_numericas += 1\n",
        "\n",
        "if numero == 1:\n",
        "  uni_str = '1 unidade'\n",
        "  partes_numericas += 1\n",
        "elif numero > 1:\n",
        "  uni_str = f'{numero} unidades'\n",
        "  partes_numericas += 1\n",
        "\n",
        "if partes_numericas == 0:\n",
        "  print ('Número 0 não possui centenas, dezenas e unidades')\n",
        "elif partes_numericas == 1:\n",
        "  print (cen_str + dez_str + uni_str)\n",
        "elif partes_numericas == 3:\n",
        "  print (f'{cen_str}, {dez_str} e {uni_str}')\n",
        "elif partes_numericas == 2:\n",
        "  if cen_str != ' ':\n",
        "    segunda_parte = dez_str + uni_str\n",
        "    print (f'{cen_str} e {segunda_parte}')\n",
        "  else:\n",
        "    print (f'{dez_str} e {uni_str}')"
      ]
    },
    {
      "cell_type": "code",
      "source": [],
      "metadata": {
        "id": "2cOc6kPY8ZaC"
      },
      "execution_count": null,
      "outputs": []
    }
  ]
}