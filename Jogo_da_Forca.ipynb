{
  "nbformat": 4,
  "nbformat_minor": 0,
  "metadata": {
    "colab": {
      "provenance": [],
      "authorship_tag": "ABX9TyOqBp/lhbOtFbEYOkYsdCHg",
      "include_colab_link": true
    },
    "kernelspec": {
      "name": "python3",
      "display_name": "Python 3"
    },
    "language_info": {
      "name": "python"
    }
  },
  "cells": [
    {
      "cell_type": "markdown",
      "metadata": {
        "id": "view-in-github",
        "colab_type": "text"
      },
      "source": [
        "<a href=\"https://colab.research.google.com/github/Rachel-Lecioli/Exerc-cios-Python/blob/main/Jogo_da_Forca.ipynb\" target=\"_parent\"><img src=\"https://colab.research.google.com/assets/colab-badge.svg\" alt=\"Open In Colab\"/></a>"
      ]
    },
    {
      "cell_type": "code",
      "execution_count": 2,
      "metadata": {
        "colab": {
          "base_uri": "https://localhost:8080/"
        },
        "id": "senW2obMCDu9",
        "outputId": "2d4b569a-7133-4e8b-e75e-48ee293ff812"
      },
      "outputs": [
        {
          "output_type": "stream",
          "name": "stdout",
          "text": [
            "Jogo da Forca\n",
            "Descubra a palavra!\n",
            "A palavra é: _ _ _ _ _ _ _ _ _ _ \n",
            "\n",
            "Digite uma letra: m\n",
            "-> Erro 1 de 6. Tente novamente!\n",
            "\n",
            "Letras já digitadas:  {'M'}\n",
            "\n",
            "\n",
            "Digite uma letra: e\n",
            "A palavra é: _ E _ _ _ _ _ _ _ _ \n",
            "Letras já digitadas:  {'M', 'E'}\n",
            "\n",
            "\n",
            "Digite uma letra: a\n",
            "A palavra é: _ E _ _ _ _ _ _ _ A \n",
            "Letras já digitadas:  {'M', 'E', 'A'}\n",
            "\n",
            "\n",
            "Digite uma letra: i\n",
            "A palavra é: _ E _ _ _ _ _ _ I A \n",
            "Letras já digitadas:  {'I', 'M', 'E', 'A'}\n",
            "\n",
            "\n",
            "Digite uma letra: o\n",
            "A palavra é: _ E _ _ O _ O _ I A \n",
            "Letras já digitadas:  {'I', 'O', 'E', 'M', 'A'}\n",
            "\n",
            "\n",
            "Digite uma letra: u\n",
            "-> Erro 2 de 6. Tente novamente!\n",
            "\n",
            "Letras já digitadas:  {'I', 'O', 'E', 'U', 'M', 'A'}\n",
            "\n",
            "\n",
            "Digite uma letra: n\n",
            "A palavra é: _ E _ N O _ O _ I A \n",
            "Letras já digitadas:  {'I', 'N', 'O', 'E', 'U', 'M', 'A'}\n",
            "\n",
            "\n",
            "Digite uma letra: l\n",
            "A palavra é: _ E _ N O L O _ I A \n",
            "Letras já digitadas:  {'I', 'N', 'O', 'E', 'U', 'L', 'M', 'A'}\n",
            "\n",
            "\n",
            "Digite uma letra: f\n",
            "-> Erro 3 de 6. Tente novamente!\n",
            "\n",
            "Letras já digitadas:  {'F', 'I', 'N', 'O', 'E', 'U', 'L', 'M', 'A'}\n",
            "\n",
            "\n",
            "Digite uma letra: c\n",
            "A palavra é: _ E C N O L O _ I A \n",
            "Letras já digitadas:  {'F', 'I', 'N', 'O', 'E', 'U', 'C', 'L', 'M', 'A'}\n",
            "\n",
            "\n",
            "Digite uma letra: g\n",
            "A palavra é: _ E C N O L O G I A \n",
            "Letras já digitadas:  {'F', 'I', 'N', 'O', 'E', 'U', 'C', 'G', 'L', 'M', 'A'}\n",
            "\n",
            "\n",
            "Digite uma letra: t\n",
            "A palavra é: T E C N O L O G I A \n",
            "Letras já digitadas:  {'F', 'I', 'N', 'O', 'E', 'U', 'C', 'G', 'L', 'M', 'T', 'A'}\n",
            "Parabéns, você ganhou!\n"
          ]
        }
      ],
      "source": [
        "palavra = 'tecnologia'.upper()\n",
        "\n",
        "print ('Jogo da Forca')\n",
        "print ('Descubra a palavra!')\n",
        "\n",
        "print ('A palavra é: ', end='')\n",
        "for letra in palavra:\n",
        "  print ('_ ', end='')\n",
        "\n",
        "conjunto_letras_palavra = set (palavra)\n",
        "conjunto_letras_digitadas = set ()\n",
        "erros = 0\n",
        "\n",
        "while (not conjunto_letras_palavra.issubset(conjunto_letras_digitadas)) and erros < 7:\n",
        "  print()\n",
        "  print()\n",
        "  letra_digitada = input('Digite uma letra: ').upper()\n",
        "  conjunto_letras_digitadas.add(letra_digitada)\n",
        "  if letra_digitada in conjunto_letras_palavra:\n",
        "    print('A palavra é: ', end='')\n",
        "    for letra in palavra:\n",
        "      if letra in conjunto_letras_digitadas:\n",
        "        print (f'{letra} ', end='')\n",
        "      else:\n",
        "        print ('_ ', end='')\n",
        "  else:\n",
        "    erros += 1\n",
        "    print (f'-> Erro {erros} de 6. Tente novamente!')\n",
        "\n",
        "  print()\n",
        "  print('Letras já digitadas: ', conjunto_letras_digitadas)\n",
        "\n",
        "if erros < 7:\n",
        "  print ('Parabéns, você ganhou!')\n",
        "else:\n",
        "  print ('Infelizmente você perdeu!')\n"
      ]
    },
    {
      "cell_type": "code",
      "source": [],
      "metadata": {
        "id": "nEvMOez4FKby"
      },
      "execution_count": null,
      "outputs": []
    }
  ]
}