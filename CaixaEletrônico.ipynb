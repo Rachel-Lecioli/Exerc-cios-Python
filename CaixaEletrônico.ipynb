{
  "nbformat": 4,
  "nbformat_minor": 0,
  "metadata": {
    "colab": {
      "provenance": [],
      "authorship_tag": "ABX9TyPCoZrrlZu4HmaoD5+EK8mx",
      "include_colab_link": true
    },
    "kernelspec": {
      "name": "python3",
      "display_name": "Python 3"
    },
    "language_info": {
      "name": "python"
    }
  },
  "cells": [
    {
      "cell_type": "markdown",
      "metadata": {
        "id": "view-in-github",
        "colab_type": "text"
      },
      "source": [
        "<a href=\"https://colab.research.google.com/github/Rachel-Lecioli/Exerc-cios-Python/blob/main/CaixaEletr%C3%B4nico.ipynb\" target=\"_parent\"><img src=\"https://colab.research.google.com/assets/colab-badge.svg\" alt=\"Open In Colab\"/></a>"
      ]
    },
    {
      "cell_type": "code",
      "execution_count": 33,
      "metadata": {
        "colab": {
          "base_uri": "https://localhost:8080/"
        },
        "id": "_ouWCVy5YC1w",
        "outputId": "31cd905e-ad54-41db-8ba9-f2992f1670c4"
      },
      "outputs": [
        {
          "output_type": "stream",
          "name": "stdout",
          "text": [
            "Informe o valor do saque: 250\n",
            "2 Notas de 100 reais 1 Nota de 50 reais \n"
          ]
        }
      ],
      "source": [
        "saque = int (input ('Informe o valor do saque: '))\n",
        "nota_100 = nota_50 = nota_10 = nota_5 = nota_1 = ''\n",
        "\n",
        "if saque <= 9:\n",
        "  print ('Abaixo do valor mínimo')\n",
        "elif saque >= 601:\n",
        "  print ('Acima do valor máximo')\n",
        "\n",
        "real_100, saque = divmod(saque,100)\n",
        "\n",
        "notas_saque = 0\n",
        "\n",
        "if real_100 == 1:\n",
        "  nota_100 = '1 Nota de 100 reais '\n",
        "  notas_saque += 1\n",
        "elif real_100 > 1:\n",
        "  nota_100 = f'{real_100} Notas de 100 reais '\n",
        "  notas_saque += 1\n",
        "\n",
        "real_50, saque = divmod(saque,50)\n",
        "\n",
        "if real_50 == 1:\n",
        "  nota_50 = '1 Nota de 50 reais '\n",
        "  notas_saque += 1\n",
        "elif real_50 > 1:\n",
        "  nota_50 = f'{real_50} Notas de 50 reais '\n",
        "  notas_saque += 1\n",
        "\n",
        "real_10, saque = divmod(saque,10)\n",
        "\n",
        "if real_10 == 1:\n",
        "  nota_10 = '1 Nota de 10 reais '\n",
        "  notas_saque += 1\n",
        "elif real_10 > 1:\n",
        "  nota_10 = f'{real_10} Notas de 10 reais '\n",
        "  notas_saque += 1\n",
        "\n",
        "real_5, saque = divmod(saque,5)\n",
        "\n",
        "if real_5 == 1:\n",
        "  nota_5 = '1 Nota de 5 reais '\n",
        "  notas_saque += 1\n",
        "elif real_5 > 1:\n",
        "  nota_5 = f'{real_5} Notas de 5 reais '\n",
        "  notas_saque += 1\n",
        "\n",
        "if saque == 1:\n",
        "  nota_1 = '1 Nota de 1 real '\n",
        "  notas_saque += 1\n",
        "elif saque > 1:\n",
        "  nota_1 = f'{saque} Notas de 1 real'\n",
        "  notas_saque += 1\n",
        "\n",
        "if notas_saque == 0:\n",
        "  print ('Não possui notas para saque')\n",
        "elif notas_saque <= 5:\n",
        "  print (nota_100 + nota_50 + nota_10 + nota_5 + nota_1)\n",
        "elif notas_saque == 5:\n",
        "  print (f'{nota_100} notas de 100 reais, {nota_50} notas de 50 reais, {nota_10} notas de 10 reais, {nota_5} notas de 5 reais e {nota_1} notas de 1 real')\n",
        "elif notas_saque == 5:\n",
        "  if nota_100 != '':\n",
        "    outras_notas = nota_50 + nota_10 + nota_5 + nota_1\n",
        "    print (f'{nota_100} notas de 100 reais + {outras_notas}')\n",
        "  elif nota_50 != '':\n",
        "    outras_notas = nota_10 + nota_5 + nota_1\n",
        "    print (f'{nota_50} notas de 50 reais + {outras_notas}')\n",
        "  elif nota_10 != '':\n",
        "    outras_notas = nota_5 + nota_1\n",
        "    print (f'{nota_10} notas de 10 reais + {outras_notas}')\n",
        "  else:\n",
        "    print (f'{nota_5} notas de 5 reais + {nota_1}')"
      ]
    },
    {
      "cell_type": "code",
      "source": [
        "600"
      ],
      "metadata": {
        "id": "UIhybIkKaKiL"
      },
      "execution_count": 18,
      "outputs": []
    }
  ]
}
