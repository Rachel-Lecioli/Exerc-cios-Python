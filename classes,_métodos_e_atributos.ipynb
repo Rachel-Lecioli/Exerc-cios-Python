{
  "nbformat": 4,
  "nbformat_minor": 0,
  "metadata": {
    "colab": {
      "provenance": [],
      "authorship_tag": "ABX9TyNR4zbCqIUF5ktuFgtXnEHU",
      "include_colab_link": true
    },
    "kernelspec": {
      "name": "python3",
      "display_name": "Python 3"
    },
    "language_info": {
      "name": "python"
    }
  },
  "cells": [
    {
      "cell_type": "markdown",
      "metadata": {
        "id": "view-in-github",
        "colab_type": "text"
      },
      "source": [
        "<a href=\"https://colab.research.google.com/github/Rachel-Lecioli/Exerc-cios-Python/blob/main/classes%2C_m%C3%A9todos_e_atributos.ipynb\" target=\"_parent\"><img src=\"https://colab.research.google.com/assets/colab-badge.svg\" alt=\"Open In Colab\"/></a>"
      ]
    },
    {
      "cell_type": "markdown",
      "source": [
        "## Circulo"
      ],
      "metadata": {
        "id": "SNXJ_xJFKZq8"
      }
    },
    {
      "cell_type": "code",
      "source": [
        "class CirculoPerfeito:\n",
        "  def __init__(self):\n",
        "    self.cor = 'Azul'\n",
        "    self.circunferencia = 4\n",
        "    self.material = 'Papel'\n",
        "\n",
        "  def mostra_cor(self):\n",
        "    return id(self)\n",
        "\n",
        "  def trocar_cor(self, cor):\n",
        "    self.cor = cor\n",
        "\n",
        "circulo_primeiro = CirculoPerfeito()\n",
        "circulo_segundo = CirculoPerfeito()\n",
        "circulo_segundo.trocar_cor('Amarelo')\n",
        "\n",
        "print (type(circulo_primeiro))\n",
        "print (circulo_primeiro is circulo_segundo)\n",
        "print (id(circulo_primeiro), circulo_primeiro.mostra_cor())\n",
        "print (id(circulo_segundo), circulo_segundo.mostra_cor())\n",
        "print (circulo_primeiro.cor, circulo_segundo.cor)"
      ],
      "metadata": {
        "id": "5aSzrc_N-I4T"
      },
      "execution_count": null,
      "outputs": []
    },
    {
      "cell_type": "markdown",
      "source": [
        "## Quadrado"
      ],
      "metadata": {
        "id": "_2W4h0x5KeZ7"
      }
    },
    {
      "cell_type": "code",
      "source": [
        "class Quadrado:\n",
        "  def __init__(self, lado = 1):\n",
        "    self.lado = lado\n",
        "\n",
        "  def calcular_area(self):\n",
        "    return self.lado ** 2\n",
        "\n",
        "quadrado = Quadrado (4)\n",
        "print(quadrado.lado, quadrado.calcular_area())\n",
        "\n"
      ],
      "metadata": {
        "id": "Fl7CMu__C_8q"
      },
      "execution_count": null,
      "outputs": []
    },
    {
      "cell_type": "markdown",
      "source": [
        "## Pessoa"
      ],
      "metadata": {
        "id": "6-aoGV1bKhF0"
      }
    },
    {
      "cell_type": "code",
      "source": [
        "class Pessoa:\n",
        "  def __init__(self, nome, idade, peso, altura):\n",
        "    self.nome = nome\n",
        "    self.idade = idade\n",
        "    self.peso = peso\n",
        "    self.altura = altura\n",
        "\n",
        "  def crescer(self):\n",
        "    if self.idade < 21:\n",
        "      self.altura += 6\n",
        "      self.peso += 4.5\n",
        "    self.idade += 1\n",
        "\n",
        "otavio = Pessoa('Otavio', 2, 12, 80)\n",
        "\n",
        "for _ in range(22):\n",
        "  otavio.crescer()\n",
        "  print(f'{otavio.nome} tem {otavio.idade} anos, pesa {otavio.peso} kg e mede {otavio.altura} cm')"
      ],
      "metadata": {
        "id": "d80yU90oQhuo"
      },
      "execution_count": null,
      "outputs": []
    },
    {
      "cell_type": "markdown",
      "source": [
        "## Combustível"
      ],
      "metadata": {
        "id": "tVU-RxdoKqlj"
      }
    },
    {
      "cell_type": "code",
      "source": [
        "class BombaCombustivel:\n",
        "  def __init__(self, tipo_combustivel: str, valor_litro: float, quantidade_combustivel: float):\n",
        "    self.valor_litro = valor_litro\n",
        "    self.tipo_combustivel = tipo_combustivel\n",
        "    self.quantidade_combustivel = quantidade_combustivel\n",
        "\n",
        "  def abastecer_por_valor(self, valor:float):\n",
        "    litros_abastecidos = valor / self.valor_litro\n",
        "    self._apresentar_abastecimento_se_possivel (litros_abastecidos, valor)\n",
        "\n",
        "  def _apresentar_abastecimento_se_possivel (self, litros_abastecidos:float, valor:float):\n",
        "    if litros_abastecidos > self.quantidade_combustivel:\n",
        "      print (f'Não é possível abastecer, faltam {litros_abastecidos - self.quantidade_combustivel:.2f} litros.')\n",
        "      print ('Reabasteça a bomba')\n",
        "    else:\n",
        "      self.quantidade_combustivel -= litros_abastecidos\n",
        "      print (f'Foram abastecidos {litros_abastecidos:.2f} litros a um valor de R$ {valor:.2f}.')\n",
        "      print (f'Sobraram na bomba {self.quantidade_combustivel:.2f} litros de {self.tipo_combustivel}.')\n",
        "\n",
        "  def abastecer_por_litros(self, litros_abastecidos:float):\n",
        "    valor = litros_abastecidos * self.valor_litro\n",
        "    self._apresentar_abastecimento_se_possivel(litros_abastecidos, valor)\n",
        "\n",
        "  def adicionar_mais_combustivel(self, quantidade:float):\n",
        "    if quantidade >= 0:\n",
        "      self.quantidade_combustivel += quantidade\n",
        "    else:\n",
        "      print ('Malandrinho, você não vai roubar combustível dessa bomba')\n",
        "\n",
        "\n",
        "bomba = BombaCombustivel('Gasolina', 4.59, 100.0)\n",
        "\n",
        "bomba.abastecer_por_valor(100)\n",
        "\n",
        "bomba.abastecer_por_litros(50)\n",
        "\n",
        "bomba.valor_litro = 4.59\n",
        "bomba.abastecer_por_litros(50)\n",
        "\n",
        "bomba.adicionar_mais_combustivel(100)\n",
        "bomba.abastecer_por_litros(50)\n",
        "\n",
        "bomba.adicionar_mais_combustivel(-100)"
      ],
      "metadata": {
        "id": "xoJU8JW7BFKk"
      },
      "execution_count": null,
      "outputs": []
    },
    {
      "cell_type": "markdown",
      "source": [
        "## Lista de Dados"
      ],
      "metadata": {
        "id": "A5W5PTeSKuD0"
      }
    },
    {
      "cell_type": "code",
      "source": [
        "lista_de_dados = []\n",
        "\n",
        "def transformar_em_megabytes(tamanho_em_bytes:str) -> float:\n",
        "  return int (tamanho_em_bytes)/ (2**10) **2\n",
        "\n",
        "with open('sample_data/usuarios.txt', 'r') as arquivo:\n",
        "  for linha in arquivo:\n",
        "    linha = linha.strip()\n",
        "    usuario = linha[:15]\n",
        "    tamanho_em_disco = transformar_em_megabytes(linha[16:])\n",
        "    lista_de_dados.append((usuario, tamanho_em_disco))\n",
        "\n",
        "\n",
        "cabecalho='''ACME Inc.              Uso do espaço em disco pelos usuarios\n",
        "-----------------------------------------------------------------------\n",
        "Nr.  Usuário            Espaço utilizado          %  do  uso\n",
        "'''\n",
        "\n",
        "with open('sample_data/relatório.txt', 'w') as arquivo:\n",
        "  tamanho_total_consumido = sum([tamanho for _,tamanho in lista_de_dados])\n",
        "  media = tamanho_total_consumido / len(lista_de_dados)\n",
        "  arquivo.writelines(cabecalho)\n",
        "  for indice, dados in enumerate(lista_de_dados, start=1):\n",
        "    usuario, tamanho_em_disco = dados\n",
        "    arquivo.writelines(\n",
        "        f'{indice:<4} {usuario} {tamanho_em_disco:9.2f} MB'\n",
        "        f'{tamanho_em_disco/tamanho_total_consumido:>6.2%}\\n'\n",
        "        )\n",
        "  arquivo.writelines('\\n')\n",
        "  arquivo.writelines(f'Espaço total ocupado: {tamanho_total_consumido:.2f}')\n",
        "  arquivo.writelines(f'Espaço médio ocupado: {media:.2f} MB')"
      ],
      "metadata": {
        "id": "fkTPhBkpEqMN"
      },
      "execution_count": 12,
      "outputs": []
    }
  ]
}